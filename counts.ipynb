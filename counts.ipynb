{
 "cells": [
  {
   "cell_type": "code",
   "execution_count": 4,
   "metadata": {
    "collapsed": true
   },
   "outputs": [],
   "source": [
    "import networkx as nx\n",
    "import os"
   ]
  },
  {
   "cell_type": "code",
   "execution_count": 3,
   "metadata": {
    "collapsed": false
   },
   "outputs": [
    {
     "name": "stdout",
     "output_type": "stream",
     "text": [
      "rt_2013_11_25.langfilt.gml  rt_2014_1_21.langfilt.gml\r\n",
      "rt_2013_11_26.langfilt.gml  rt_2014_1_22.langfilt.gml\r\n",
      "rt_2013_11_27.langfilt.gml  rt_2014_1_23.langfilt.gml\r\n",
      "rt_2013_11_28.langfilt.gml  rt_2014_1_24.langfilt.gml\r\n",
      "rt_2013_11_29.langfilt.gml  rt_2014_1_25.langfilt.gml\r\n",
      "rt_2013_11_30.langfilt.gml  rt_2014_1_26.langfilt.gml\r\n",
      "rt_2013_12_10.langfilt.gml  rt_2014_1_27.langfilt.gml\r\n",
      "rt_2013_12_11.langfilt.gml  rt_2014_1_28.langfilt.gml\r\n",
      "rt_2013_12_12.langfilt.gml  rt_2014_1_29.langfilt.gml\r\n",
      "rt_2013_12_13.langfilt.gml  rt_2014_1_2.langfilt.gml\r\n",
      "rt_2013_12_14.langfilt.gml  rt_2014_1_30.langfilt.gml\r\n",
      "rt_2013_12_15.langfilt.gml  rt_2014_1_31.langfilt.gml\r\n",
      "rt_2013_12_16.langfilt.gml  rt_2014_1_3.langfilt.gml\r\n",
      "rt_2013_12_17.langfilt.gml  rt_2014_1_4.langfilt.gml\r\n",
      "rt_2013_12_18.langfilt.gml  rt_2014_1_5.langfilt.gml\r\n",
      "rt_2013_12_19.langfilt.gml  rt_2014_1_6.langfilt.gml\r\n",
      "rt_2013_12_1.langfilt.gml   rt_2014_1_7.langfilt.gml\r\n",
      "rt_2013_12_20.langfilt.gml  rt_2014_1_8.langfilt.gml\r\n",
      "rt_2013_12_21.langfilt.gml  rt_2014_1_9.langfilt.gml\r\n",
      "rt_2013_12_22.langfilt.gml  rt_2014_2_10.langfilt.gml\r\n",
      "rt_2013_12_23.langfilt.gml  rt_2014_2_11.langfilt.gml\r\n",
      "rt_2013_12_24.langfilt.gml  rt_2014_2_12.langfilt.gml\r\n",
      "rt_2013_12_25.langfilt.gml  rt_2014_2_13.langfilt.gml\r\n",
      "rt_2013_12_26.langfilt.gml  rt_2014_2_14.langfilt.gml\r\n",
      "rt_2013_12_27.langfilt.gml  rt_2014_2_15.langfilt.gml\r\n",
      "rt_2013_12_28.langfilt.gml  rt_2014_2_16.langfilt.gml\r\n",
      "rt_2013_12_29.langfilt.gml  rt_2014_2_17.langfilt.gml\r\n",
      "rt_2013_12_2.langfilt.gml   rt_2014_2_18.langfilt.gml\r\n",
      "rt_2013_12_30.langfilt.gml  rt_2014_2_19.langfilt.gml\r\n",
      "rt_2013_12_31.langfilt.gml  rt_2014_2_1.langfilt.gml\r\n",
      "rt_2013_12_3.langfilt.gml   rt_2014_2_20.langfilt.gml\r\n",
      "rt_2013_12_4.langfilt.gml   rt_2014_2_21.langfilt.gml\r\n",
      "rt_2013_12_5.langfilt.gml   rt_2014_2_22.langfilt.gml\r\n",
      "rt_2013_12_6.langfilt.gml   rt_2014_2_23.langfilt.gml\r\n",
      "rt_2013_12_7.langfilt.gml   rt_2014_2_24.langfilt.gml\r\n",
      "rt_2013_12_8.langfilt.gml   rt_2014_2_25.langfilt.gml\r\n",
      "rt_2013_12_9.langfilt.gml   rt_2014_2_26.langfilt.gml\r\n",
      "rt_2014_1_10.langfilt.gml   rt_2014_2_27.langfilt.gml\r\n",
      "rt_2014_1_11.langfilt.gml   rt_2014_2_28.langfilt.gml\r\n",
      "rt_2014_1_12.langfilt.gml   rt_2014_2_2.langfilt.gml\r\n",
      "rt_2014_1_13.langfilt.gml   rt_2014_2_3.langfilt.gml\r\n",
      "rt_2014_1_14.langfilt.gml   rt_2014_2_4.langfilt.gml\r\n",
      "rt_2014_1_15.langfilt.gml   rt_2014_2_5.langfilt.gml\r\n",
      "rt_2014_1_16.langfilt.gml   rt_2014_2_6.langfilt.gml\r\n",
      "rt_2014_1_17.langfilt.gml   rt_2014_2_7.langfilt.gml\r\n",
      "rt_2014_1_18.langfilt.gml   rt_2014_2_8.langfilt.gml\r\n",
      "rt_2014_1_19.langfilt.gml   rt_2014_2_9.langfilt.gml\r\n",
      "rt_2014_1_1.langfilt.gml    ukraine_d2_external.gml\r\n",
      "rt_2014_1_20.langfilt.gml\r\n"
     ]
    }
   ],
   "source": [
    "!ls ../gmls"
   ]
  },
  {
   "cell_type": "code",
   "execution_count": 5,
   "metadata": {
    "collapsed": true
   },
   "outputs": [],
   "source": [
    "p = '../gmls'\n",
    "files = [os.path.join(p,x) for x in os.listdir(p) if 'rt_' in x]"
   ]
  },
  {
   "cell_type": "code",
   "execution_count": 14,
   "metadata": {
    "collapsed": false
   },
   "outputs": [],
   "source": [
    "import src.main as m\n",
    "import numpy as np"
   ]
  },
  {
   "cell_type": "code",
   "execution_count": 12,
   "metadata": {
    "collapsed": false
   },
   "outputs": [
    {
     "name": "stdout",
     "output_type": "stream",
     "text": [
      "Number of nodes who have more than 50 retweeters: 30\n",
      "23079.0\n",
      "(8143,)\n",
      "(8143,)\n"
     ]
    }
   ],
   "source": [
    "cooccurences, coRU, coUK, names = m.parseGML('../gmls/rt_2014_1_20.langfilt.gml')"
   ]
  },
  {
   "cell_type": "code",
   "execution_count": 13,
   "metadata": {
    "collapsed": false
   },
   "outputs": [
    {
     "ename": "NameError",
     "evalue": "name 'np' is not defined",
     "output_type": "error",
     "traceback": [
      "\u001b[1;31m---------------------------------------------------------------------------\u001b[0m",
      "\u001b[1;31mNameError\u001b[0m                                 Traceback (most recent call last)",
      "\u001b[1;32m<ipython-input-13-ede415886784>\u001b[0m in \u001b[0;36m<module>\u001b[1;34m()\u001b[0m\n\u001b[0;32m      1\u001b[0m \u001b[0mcooccurences\u001b[0m \u001b[1;33m=\u001b[0m \u001b[0mcooccurences\u001b[0m\u001b[1;33m.\u001b[0m\u001b[0mtoarray\u001b[0m\u001b[1;33m(\u001b[0m\u001b[1;33m)\u001b[0m\u001b[1;33m\u001b[0m\u001b[0m\n\u001b[1;32m----> 2\u001b[1;33m \u001b[0mnames\u001b[0m \u001b[1;33m=\u001b[0m \u001b[0mnp\u001b[0m\u001b[1;33m.\u001b[0m\u001b[0marray\u001b[0m\u001b[1;33m(\u001b[0m\u001b[0mnames\u001b[0m\u001b[1;33m)\u001b[0m\u001b[1;33m\u001b[0m\u001b[0m\n\u001b[0m",
      "\u001b[1;31mNameError\u001b[0m: name 'np' is not defined"
     ]
    }
   ],
   "source": [
    "cooccurences = cooccurences.toarray()\n",
    "names = np.array(names)"
   ]
  },
  {
   "cell_type": "code",
   "execution_count": 15,
   "metadata": {
    "collapsed": true
   },
   "outputs": [],
   "source": [
    "G = nx.Graph()\n",
    "for i in range(cooccurences.shape[0]):\n",
    "    topX = np.argsort(cooccurences[i,:])[-5:]\n",
    "    for j in topX:\n",
    "        G.add_edge(names[i], names[j], weight=cooccurences[i][j])"
   ]
  },
  {
   "cell_type": "code",
   "execution_count": null,
   "metadata": {
    "collapsed": true
   },
   "outputs": [],
   "source": []
  }
 ],
 "metadata": {
  "kernelspec": {
   "display_name": "Python 2",
   "language": "python",
   "name": "python2"
  },
  "language_info": {
   "codemirror_mode": {
    "name": "ipython",
    "version": 2
   },
   "file_extension": ".py",
   "mimetype": "text/x-python",
   "name": "python",
   "nbconvert_exporter": "python",
   "pygments_lexer": "ipython2",
   "version": "2.7.11"
  }
 },
 "nbformat": 4,
 "nbformat_minor": 0
}
